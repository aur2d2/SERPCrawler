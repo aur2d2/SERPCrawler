{
 "cells": [
  {
   "cell_type": "code",
   "execution_count": 1,
   "id": "e71cf0c1",
   "metadata": {},
   "outputs": [],
   "source": [
    "import os\n",
    "import requests\n",
    "import csv\n",
    "import json\n",
    "import numpy as np\n",
    "from bs4 import BeautifulSoup"
   ]
  },
  {
   "cell_type": "code",
   "execution_count": null,
   "id": "799fb1bc",
   "metadata": {},
   "outputs": [],
   "source": [
    "search_term = \"videos of cats\"\n",
    "def send_request(search_term,proxy):\n",
    "    url = \"https://app.scrapingbee.com/api/v1/store/google\"\n",
    "    response = session.get(url,params={\n",
    "            \"api_key\": \"M0F28LXYXW73R84SD17755N05SXF8GXA9Z38ZNRQ52ZHZLMKPE0Z0GA9I1ZNUW3IPUXC4JO8XUYVK0NP\",\n",
    "            \"search\": search_term\n",
    "        })\n",
    "    status_code = response.status_code\n",
    "    response = response.content\n",
    "    if status_code == 200:\n",
    "        return response\n",
    "    else:\n",
    "        print(\"Error! No response\")\n",
    "    return response\n",
    "        "
   ]
  },
  {
   "cell_type": "code",
   "execution_count": null,
   "id": "6b7dda83",
   "metadata": {},
   "outputs": [
    {
     "name": "stdout",
     "output_type": "stream",
     "text": [
      "Error! No response\n",
      "Error! No response\n",
      "Error! No response\n"
     ]
    }
   ],
   "source": [
    "output = send_request(search_term, proxy)\n",
    "print(output)"
   ]
  },
  {
   "cell_type": "code",
   "execution_count": null,
   "id": "645d0f33",
   "metadata": {},
   "outputs": [],
   "source": [
    "output_str = output.decode('utf-8', errors='ignore')\n",
    "print(output_str)"
   ]
  },
  {
   "cell_type": "code",
   "execution_count": null,
   "id": "dd2f400b",
   "metadata": {},
   "outputs": [],
   "source": [
    "type(output_str)"
   ]
  },
  {
   "cell_type": "code",
   "execution_count": null,
   "id": "43e8ef31",
   "metadata": {},
   "outputs": [],
   "source": [
    "outputjson = json.loads(output_str)"
   ]
  },
  {
   "cell_type": "code",
   "execution_count": null,
   "id": "8df29ae4",
   "metadata": {},
   "outputs": [],
   "source": [
    "type(outputjson)"
   ]
  },
  {
   "cell_type": "code",
   "execution_count": null,
   "id": "a40a881d",
   "metadata": {},
   "outputs": [],
   "source": [
    "for key, value in outputjson.items():\n",
    "    print(key)"
   ]
  },
  {
   "cell_type": "code",
   "execution_count": null,
   "id": "36bdb878",
   "metadata": {},
   "outputs": [],
   "source": [
    "del outputjson['questions']\n",
    "del outputjson['related_queries']\n",
    "del outputjson['bottom_ads']\n",
    "del outputjson['top_ads']\n",
    "del outputjson['meta_data']\n",
    "del outputjson['local_results']\n",
    "for key, value in outputjson.items():\n",
    "    print(key)"
   ]
  },
  {
   "cell_type": "code",
   "execution_count": null,
   "id": "be03d271",
   "metadata": {},
   "outputs": [],
   "source": [
    "url_list=[]\n",
    "for key, value in outputjson.items():\n",
    "    for sub_items in outputjson[\"organic_results\"]:\n",
    "        for key, value in sub_items.items():\n",
    "            if key == \"url\":\n",
    "                url_list.append(value)"
   ]
  },
  {
   "cell_type": "code",
   "execution_count": null,
   "id": "315b01a2",
   "metadata": {},
   "outputs": [],
   "source": [
    "print(url_list)"
   ]
  },
  {
   "cell_type": "code",
   "execution_count": null,
   "id": "d90d5ef0",
   "metadata": {},
   "outputs": [],
   "source": [
    "len(url_list)"
   ]
  },
  {
   "cell_type": "code",
   "execution_count": null,
   "id": "0fb67ae8",
   "metadata": {},
   "outputs": [],
   "source": [
    "np.savetxt(\"VideoList.csv\", url_list, delimiter =\", \",fmt ='% s')  # Set the format of the data as string"
   ]
  },
  {
   "cell_type": "code",
   "execution_count": null,
   "id": "69a73a4c",
   "metadata": {},
   "outputs": [],
   "source": [
    "os.getcwd()"
   ]
  },
  {
   "cell_type": "code",
   "execution_count": null,
   "id": "454f9462",
   "metadata": {},
   "outputs": [],
   "source": [
    "with open(\"VideoList.csv\", 'r') as csvfile:\n",
    "    datareader = csv.reader(csvfile)\n",
    "    for row in datareader:\n",
    "        print(row)"
   ]
  },
  {
   "cell_type": "code",
   "execution_count": null,
   "id": "65adb3fe",
   "metadata": {},
   "outputs": [],
   "source": [
    "type(url_list)"
   ]
  },
  {
   "cell_type": "code",
   "execution_count": null,
   "id": "8993ef48",
   "metadata": {},
   "outputs": [],
   "source": [
    "watch_list=[]\n",
    "chan_list = []\n",
    "for url in url_list:\n",
    "    if \"https://www.youtube.com/watch?v=\" in url:\n",
    "        url_list.pop(url_list.index(url))\n",
    "        watch_list.append(url)\n",
    "    if \"https://www.youtube.com/redirect?\" in url:\n",
    "        url_list.pop(url_list.index(url))\n",
    "print(watch_list)"
   ]
  },
  {
   "cell_type": "code",
   "execution_count": null,
   "id": "acf8a2cf",
   "metadata": {},
   "outputs": [],
   "source": [
    "from pytube import YouTube\n",
    "from pytube import Channel"
   ]
  },
  {
   "cell_type": "code",
   "execution_count": null,
   "id": "d12a0be4",
   "metadata": {},
   "outputs": [],
   "source": [
    "f_list = []\n",
    "for watch in watch_list:\n",
    "    try:\n",
    "        x = YouTube(watch)\n",
    "        curl = x.channel_url\n",
    "        c = Channel(curl)\n",
    "        cname = c.channel_name\n",
    "        print(curl,cname)\n",
    "        print(\"\\n\")\n",
    "        f_list.append(curl)\n",
    "        \n",
    "    except Exception as e: \n",
    "        continue"
   ]
  },
  {
   "cell_type": "code",
   "execution_count": null,
   "id": "d97e4373",
   "metadata": {},
   "outputs": [],
   "source": [
    "final_list = f_list + chan_list"
   ]
  },
  {
   "cell_type": "code",
   "execution_count": null,
   "id": "c8b0c02d",
   "metadata": {},
   "outputs": [],
   "source": [
    "print(final_list)"
   ]
  },
  {
   "cell_type": "code",
   "execution_count": null,
   "id": "6a6ffbf4",
   "metadata": {},
   "outputs": [],
   "source": [
    "finallist = []\n",
    "for x in final_list:\n",
    "    if x not in finallist:\n",
    "        finallist.append(x)"
   ]
  },
  {
   "cell_type": "code",
   "execution_count": null,
   "id": "d02ec23e",
   "metadata": {},
   "outputs": [],
   "source": [
    "np.savetxt(\"VideoList2.csv\", finallist, delimiter =\", \",fmt ='% s') "
   ]
  },
  {
   "cell_type": "code",
   "execution_count": null,
   "id": "3334831d",
   "metadata": {},
   "outputs": [],
   "source": []
  }
 ],
 "metadata": {
  "kernelspec": {
   "display_name": "Python 3 (ipykernel)",
   "language": "python",
   "name": "python3"
  },
  "language_info": {
   "codemirror_mode": {
    "name": "ipython",
    "version": 3
   },
   "file_extension": ".py",
   "mimetype": "text/x-python",
   "name": "python",
   "nbconvert_exporter": "python",
   "pygments_lexer": "ipython3",
   "version": "3.9.5"
  }
 },
 "nbformat": 4,
 "nbformat_minor": 5
}
